{
  "cells": [
    {
      "cell_type": "markdown",
      "metadata": {},
      "source": [
        "## Data Scrapping"
      ]
    },
    {
      "cell_type": "code",
      "execution_count": 4,
      "metadata": {
        "colab": {
          "base_uri": "https://localhost:8080/"
        },
        "id": "mEhkxTAiSup6",
        "outputId": "b79e82c7-e183-4500-d639-d1854ce65b9d"
      },
      "outputs": [
        {
          "name": "stdout",
          "output_type": "stream",
          "text": [
            "      Product  Market Location Wholesale Price Retail Price Supply Volume  \\\n",
            "0       Beans          Gikomba       150.00/Kg    210.00/Kg                 \n",
            "1       Beans           Mabera       158.33/Kg    187.50/Kg       6000.00   \n",
            "2       Beans            Kutus       130.00/Kg    150.00/Kg          0.00   \n",
            "3       Beans             Molo               -    250.00/Kg         70.00   \n",
            "4       Beans          Mwatate       170.00/Kg    180.00/Kg                 \n",
            "...       ...              ...             ...          ...           ...   \n",
            "87861   Onion           Kibuye        21.54/Kg            -                 \n",
            "87862   Onion      Wath Ong'er        30.77/Kg            -                 \n",
            "87863   Onion         Karatina        20.00/Kg            -                 \n",
            "87864   Onion  Nakuru Wakulima        26.92/Kg            -                 \n",
            "87865   Onion         Kongowea        32.31/Kg            -                 \n",
            "\n",
            "             County        Date  \n",
            "0           Nairobi  2024-04-25  \n",
            "1            Migori  2024-04-25  \n",
            "2         Kirinyaga  2024-04-25  \n",
            "3            Nakuru  2024-04-25  \n",
            "4      Taita-Taveta  2024-04-24  \n",
            "...             ...         ...  \n",
            "87861        Kisumu  2005-02-01  \n",
            "87862        Migori  2005-02-01  \n",
            "87863         Nyeri  2005-02-01  \n",
            "87864        Nakuru  2005-02-01  \n",
            "87865       Mombasa  2005-02-01  \n",
            "\n",
            "[87866 rows x 7 columns]\n"
          ]
        }
      ],
      "source": [
        "import requests\n",
        "from bs4 import BeautifulSoup\n",
        "import pandas as pd\n",
        "\n",
        "# custom headers\n",
        "headers = {\n",
        "    \"User-Agent\": \"Mozilla/5.0 (Windows NT 10.0; Win64; x64) AppleWebKit/537.36 (KHTML, like Gecko) Chrome/99.0.9999.999 Safari/537.36\",\n",
        "    \"Accept\": \"text/html,application/xhtml+xml,application/xml;q=0.9,image/webp,image/apng,*/*;q=0.8\",\n",
        "    \"Accept-Language\": \"en-US,en;q=0.9\",\n",
        "}\n",
        "\n",
        "# Function to scrape data for a specific crop\n",
        "def scrape_data(product_name, urls):\n",
        "    cleaned_data = []\n",
        "\n",
        "    for url in urls:\n",
        "        response = requests.get(url, headers=headers)\n",
        "        if response.status_code == 200:\n",
        "            soup = BeautifulSoup(response.content, \"html.parser\")\n",
        "            table = soup.find(\"table\")\n",
        "            if table:\n",
        "                data = [[product_name] + [cell.get_text(strip=True) for cell in row.find_all(\"td\")][4:10] for row in table.find_all(\"tr\") if len(row.find_all(\"td\")) >= 10]\n",
        "                cleaned_data.extend(data)\n",
        "\n",
        "    return pd.DataFrame(cleaned_data, columns=[\"Product\", \"Market Location\", \"Wholesale Price\", \"Retail Price\", \"Supply Volume\", \"County\", \"Date\"])\n",
        "\n",
        "# URLs for different crops\n",
        "urls = {\n",
        "    \"Beans\": [\n",
        "        f\"https://amis.co.ke/site/market/{i}?product=30&per_page=3000\" for i in range(0, 33001, 3000)\n",
        "    ],\n",
        "    \"Dry Maize\": [\n",
        "        f\"https://amis.co.ke/site/market/{i}?product=1&per_page=3000\" for i in range(0, 33001, 3000)\n",
        "    ],\n",
        "    \"Rice\": [\n",
        "        f\"https://amis.co.ke/site/market/{i}?product=4&per_page=3000\" for i in range(0, 33001, 3000)\n",
        "    ],\n",
        "    \"Onion\": [\n",
        "        f\"https://amis.co.ke/site/market/{i}?product=158&per_page=3000\" for i in range(0, 33001, 3000)\n",
        "    ]\n",
        "}\n",
        "\n",
        "# Scrape data for each crop\n",
        "combined_data = pd.concat([scrape_data(product, urls[product]) for product in urls.keys()], ignore_index=True)\n",
        "\n",
        "# Display the combined DataFrame\n",
        "print(combined_data)\n"
      ]
    },
    {
      "cell_type": "code",
      "execution_count": 5,
      "metadata": {},
      "outputs": [
        {
          "name": "stdout",
          "output_type": "stream",
          "text": [
            "['Beans' 'Dry Maize' 'Rice' 'Onion']\n"
          ]
        },
        {
          "ename": "",
          "evalue": "",
          "output_type": "error",
          "traceback": [
            "\u001b[1;31mThe Kernel crashed while executing code in the current cell or a previous cell. \n",
            "\u001b[1;31mPlease review the code in the cell(s) to identify a possible cause of the failure. \n",
            "\u001b[1;31mClick <a href='https://aka.ms/vscodeJupyterKernelCrash'>here</a> for more info. \n",
            "\u001b[1;31mView Jupyter <a href='command:jupyter.viewOutput'>log</a> for further details."
          ]
        }
      ],
      "source": [
        "print(combined_data['Product'].unique())\n"
      ]
    },
    {
      "cell_type": "code",
      "execution_count": null,
      "metadata": {},
      "outputs": [],
      "source": []
    }
  ],
  "metadata": {
    "accelerator": "GPU",
    "colab": {
      "gpuType": "T4",
      "provenance": []
    },
    "kernelspec": {
      "display_name": "Python (learn-env)",
      "language": "python",
      "name": "learn-env"
    },
    "language_info": {
      "codemirror_mode": {
        "name": "ipython",
        "version": 3
      },
      "file_extension": ".py",
      "mimetype": "text/x-python",
      "name": "python",
      "nbconvert_exporter": "python",
      "pygments_lexer": "ipython3",
      "version": "3.11.5"
    }
  },
  "nbformat": 4,
  "nbformat_minor": 0
}
